{
 "cells": [
  {
   "cell_type": "code",
   "execution_count": 1,
   "metadata": {},
   "outputs": [],
   "source": [
    "import os\n",
    "import numpy as np\n",
    "import imageio\n",
    "from matplotlib import pyplot as plt\n",
    "from utils import *"
   ]
  },
  {
   "cell_type": "code",
   "execution_count": 2,
   "metadata": {},
   "outputs": [],
   "source": [
    "tMax = 60\n",
    "stockMin = 317\n",
    "stockMax = 363\n",
    "strike = 340\n",
    "\n",
    "###\n",
    "n = int((stockMax - stockMin)/0.01 + 1)\n",
    "stock = np.linspace(stockMin, stockMax, n)\n",
    "\n",
    "### t days until expiration\n",
    "valueT = np.zeros((tMax+1, n))\n",
    "for t in range(tMax+1):\n",
    "    value = BlackScholes(strike, stock, t)\n",
    "    valueT[t] = value\n",
    "\n",
    "### Normalizing Data\n",
    "\n",
    "# normalizing stock value\n",
    "x = (stock - strike) / strike\n",
    "\n",
    "# normalizing contract value\n",
    "idx = np.argmin(np.abs(stock - strike))\n",
    "yArr = valueT / valueT[tMax, idx]\n",
    "yMax = np.max(yArr)\n",
    "y0 = yArr[0]"
   ]
  },
  {
   "cell_type": "code",
   "execution_count": 3,
   "metadata": {},
   "outputs": [],
   "source": [
    "# Generating images\n",
    "files = []\n",
    "for t in range(tMax+1)[::-1]:\n",
    "    y = yArr[t]\n",
    "    plt.figure(figsize = [8, 8], tight_layout=True)\n",
    "    plt.plot(x, y, color = 'r', linewidth = 2.5, label = \"Total Contract Value\")\n",
    "    plt.plot(x, y0, color = 'k', linewidth = 2.5, linestyle = 'dashed', label = \"Intrinsic Contract Value\")\n",
    "    xlabel = r\"$\\bf{Value\\ of\\ the\\ Underyling\\ Asset}$\"\n",
    "    xlabel += \"\\n\"\n",
    "    xlabel += r\"$\\rm{(Percent\\ difference\\ between\\ stock\\ price\\ and\\ strike\\ price)}$\"\n",
    "    plt.xlabel(xlabel, fontsize = 16)\n",
    "    ylabel = r\"$\\bf{Value\\ of\\ the\\ Option\\ Contract}$\"\n",
    "    ylabel += \"\\n\"\n",
    "    ylabel += r\"$\\rm{(Ratio\\ of\\ contract\\ price\\ to\\ %dDTE\\ ATM\\ contract\\ price)}$\" % tMax\n",
    "    plt.ylabel(ylabel, fontsize = 16)\n",
    "    title = r\"$\\bf{Theta\\ Decay\\ of\\ Call\\ Option\\ Contracts}$\"\n",
    "    title += \"\\n\"\n",
    "    title += r\"$\\rm{Days\\ to\\ Expiration:}$\"\n",
    "    title += \" %2s\" % t\n",
    "    plt.title(title, family = \"monospace\", fontsize = 16)\n",
    "    plt.legend(fontsize = 16, loc=2)\n",
    "    plt.ylim(-0.05, yMax)\n",
    "    plt.xlim(x[0], x[-1])\n",
    "    plt.xticks(fontsize = 14)\n",
    "    plt.yticks(fontsize = 14)\n",
    "    plt.grid()\n",
    "    plt.gca().set_xticklabels(['{:.0f}%'.format(x*100) for x in plt.gca().get_xticks()]);\n",
    "    \n",
    "    fname = \"option_%02d.png\" % t\n",
    "    files.append(fname)\n",
    "    plt.savefig(fname)\n",
    "    plt.close()"
   ]
  },
  {
   "cell_type": "code",
   "execution_count": 4,
   "metadata": {},
   "outputs": [],
   "source": [
    "### Making movie animation\n",
    "images = []\n",
    "for i in range(tMax+1):\n",
    "    fname = files[i]\n",
    "    # make first and last frames longer\n",
    "    if i == 0 or i == tMax:\n",
    "        for _ in range(9):\n",
    "            images.append(imageio.imread(fname))\n",
    "    #\n",
    "    images.append(imageio.imread(fname))\n",
    "imageio.mimsave('OptionDecay.gif', images, duration=0.1)\n",
    "\n",
    "### cleanup\n",
    "for fname in files:\n",
    "    os.remove(fname)"
   ]
  }
 ],
 "metadata": {
  "kernelspec": {
   "display_name": "Python 3",
   "language": "python",
   "name": "python3"
  },
  "language_info": {
   "codemirror_mode": {
    "name": "ipython",
    "version": 3
   },
   "file_extension": ".py",
   "mimetype": "text/x-python",
   "name": "python",
   "nbconvert_exporter": "python",
   "pygments_lexer": "ipython3",
   "version": "3.7.6"
  }
 },
 "nbformat": 4,
 "nbformat_minor": 4
}
