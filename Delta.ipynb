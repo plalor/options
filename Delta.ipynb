{
 "cells": [
  {
   "cell_type": "code",
   "execution_count": 1,
   "metadata": {},
   "outputs": [],
   "source": [
    "import os\n",
    "import numpy as np\n",
    "import imageio\n",
    "from matplotlib import pyplot as plt\n",
    "from utils import *"
   ]
  },
  {
   "cell_type": "code",
   "execution_count": 2,
   "metadata": {},
   "outputs": [
    {
     "name": "stderr",
     "output_type": "stream",
     "text": [
      "/Users/peter/opt/anaconda3/lib/python3.7/site-packages/ipykernel_launcher.py:19: RuntimeWarning: divide by zero encountered in true_divide\n",
      "/Users/peter/opt/anaconda3/lib/python3.7/site-packages/ipykernel_launcher.py:19: RuntimeWarning: invalid value encountered in true_divide\n"
     ]
    }
   ],
   "source": [
    "tMax = 60\n",
    "stockMin = 317\n",
    "stockMax = 363\n",
    "strike = 340\n",
    "\n",
    "###\n",
    "n = int((stockMax - stockMin)/0.01 + 1)\n",
    "stock = np.linspace(stockMin, stockMax, n)\n",
    "\n",
    "### t days until expiration\n",
    "valueT = np.zeros((tMax+1, n))\n",
    "deltaT = np.zeros((tMax+1, n))\n",
    "deltaFactorT = np.zeros((tMax+1, n))\n",
    "for t in range(tMax+1):\n",
    "    value = BlackScholes(strike, stock, t)\n",
    "    valueT[t] = value\n",
    "    delta = BlackScholes(strike, stock+1, t) - value\n",
    "    deltaT[t] = delta\n",
    "    deltaFactorT[t] = stock[t]*delta/value\n",
    "\n",
    "### Normalizing Data\n",
    "\n",
    "# normalizing stock value\n",
    "x = (stock - strike) / strike"
   ]
  },
  {
   "cell_type": "code",
   "execution_count": 3,
   "metadata": {},
   "outputs": [],
   "source": [
    "# Generating images\n",
    "files = []\n",
    "for t in range(tMax+1)[::-1]:\n",
    "    fig, ax1 = plt.subplots(figsize = [9, 8], tight_layout = True)\n",
    "    xlabel = r\"$\\bf{Value\\ of\\ the\\ Underyling\\ Asset}$\"\n",
    "    xlabel += \"\\n\"\n",
    "    xlabel += r\"$\\rm{(Percent\\ difference\\ between\\ stock\\ price\\ and\\ strike\\ price)}$\"\n",
    "    plt.xlabel(xlabel, fontsize = 16)    \n",
    "\n",
    "    title = r\"$\\bf{Delta\\ Value\\ of\\ Call\\ Option\\ Contracts}$\"\n",
    "    title += \"\\n\"\n",
    "    title += r\"$\\rm{Days\\ to\\ Expiration:}$\"\n",
    "    title += \" %2s\" % t\n",
    "    plt.title(title, family = \"monospace\", fontsize = 16)\n",
    "    \n",
    "    plt.xlim(x[0], x[-1])\n",
    "    plt.xticks(fontsize = 14)\n",
    "    plt.grid()\n",
    "    plt.gca().set_xticklabels(['{:.0f}%'.format(x*100) for x in plt.gca().get_xticks()]);\n",
    "\n",
    "    ax1.tick_params(axis='y', labelsize = 14, labelcolor='r')\n",
    "    ax1.set_yticks(np.linspace(0, 1, 6))\n",
    "    ax1.plot(x, deltaT[t], color = 'r', linewidth = 2.5)\n",
    "    ylabel = r\"$\\bf{Delta}$\"\n",
    "    ylabel += \"\\n\"\n",
    "    ylabel += r\"$\\rm{(Change\\ in\\ option\\ value\\ due\\ to\\ \\$1\\ stock\\ increase)}$\"\n",
    "    ax1.set_ylabel(ylabel, color = 'r', fontsize = 16)\n",
    "    ax1.set_ylim(0, 1)\n",
    "    \n",
    "    ax2 = ax1.twinx()\n",
    "    ax2.plot(x, deltaFactorT[t], color = 'b', linewidth = 2.5)\n",
    "    ax2.tick_params(axis='y', labelsize = 14, labelcolor='b')\n",
    "    ax2.set_yticks(np.linspace(0, 100, 6))\n",
    "    ylabel = r\"$\\bf{Buying\\ Power\\ Factor}$\"\n",
    "    ylabel += \"\\n\"\n",
    "    ylabel += r\"$\\rm{(Delta\\times\\frac{stock\\ price}{contract\\ price})}$\"\n",
    "    ax2.set_ylabel(ylabel, color = 'b', fontsize = 16)\n",
    "    ax2.set_ylim(0, 100)\n",
    "    \n",
    "    fname = \"delta_%02d.png\" % t\n",
    "    files.append(fname)\n",
    "    plt.savefig(fname, bbox_inches = \"tight\")\n",
    "    plt.close()"
   ]
  },
  {
   "cell_type": "code",
   "execution_count": 4,
   "metadata": {},
   "outputs": [],
   "source": [
    "### Making movie animation\n",
    "images = []\n",
    "for i in range(tMax+1):\n",
    "    fname = files[i]\n",
    "    # make first and last frames longer\n",
    "    if i == 0 or i == tMax:\n",
    "        for _ in range(9):\n",
    "            images.append(imageio.imread(fname))\n",
    "    #\n",
    "    images.append(imageio.imread(fname))\n",
    "imageio.mimsave('Delta.gif', images, duration=0.1)\n",
    "\n",
    "### cleanup\n",
    "for fname in files:\n",
    "    os.remove(fname)"
   ]
  }
 ],
 "metadata": {
  "kernelspec": {
   "display_name": "Python 3",
   "language": "python",
   "name": "python3"
  },
  "language_info": {
   "codemirror_mode": {
    "name": "ipython",
    "version": 3
   },
   "file_extension": ".py",
   "mimetype": "text/x-python",
   "name": "python",
   "nbconvert_exporter": "python",
   "pygments_lexer": "ipython3",
   "version": "3.7.6"
  }
 },
 "nbformat": 4,
 "nbformat_minor": 4
}
