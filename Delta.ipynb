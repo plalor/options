{
 "cells": [
  {
   "cell_type": "code",
   "execution_count": 2,
   "metadata": {},
   "outputs": [],
   "source": [
    "import os\n",
    "import numpy as np\n",
    "import imageio\n",
    "from matplotlib import pyplot as plt\n",
    "from utils import *"
   ]
  },
  {
   "cell_type": "code",
   "execution_count": 3,
   "metadata": {},
   "outputs": [
    {
     "name": "stderr",
     "output_type": "stream",
     "text": [
      "/Users/peter/opt/anaconda3/lib/python3.7/site-packages/ipykernel_launcher.py:19: RuntimeWarning: divide by zero encountered in true_divide\n",
      "/Users/peter/opt/anaconda3/lib/python3.7/site-packages/ipykernel_launcher.py:19: RuntimeWarning: invalid value encountered in true_divide\n"
     ]
    }
   ],
   "source": [
    "tMax = 60\n",
    "stock = 340\n",
    "strikeMin = stock*0.93\n",
    "strikeMax = stock*1.07\n",
    "\n",
    "###\n",
    "n = int((strikeMax - strikeMin)/0.01 + 1)\n",
    "strike = np.linspace(strikeMin, strikeMax, n)\n",
    "\n",
    "### t days until expiration\n",
    "valueT = np.zeros((tMax+1, n))\n",
    "deltaT = np.zeros((tMax+1, n))\n",
    "deltaFactorT = np.zeros((tMax+1, n))\n",
    "for t in range(tMax+1):\n",
    "    value = BlackScholes(strike, stock, t)\n",
    "    valueT[t] = value\n",
    "    delta = Greeks(strike, stock, t, greek=\"delta\")\n",
    "    deltaT[t] = delta\n",
    "    deltaFactorT[t] = stock*delta/value\n",
    "\n",
    "### Normalizing Data\n",
    "\n",
    "# normalizing stock value\n",
    "moneyness = (stock - strike) / stock"
   ]
  },
  {
   "cell_type": "code",
   "execution_count": 3,
   "metadata": {
    "scrolled": false
   },
   "outputs": [],
   "source": [
    "# Generating images\n",
    "files = []\n",
    "for t in range(tMax+1)[::-1]:\n",
    "    fig, ax1 = plt.subplots(figsize = [10, 8], tight_layout = True)\n",
    "    xlabel = r\"$\\bf{Option\\ Moneyness}$\"\n",
    "    xlabel += \"\\n\"\n",
    "    xlabel += r\"$\\rm{\\left(\\frac{stock\\ price\\ \\minus\\ strike\\ price}{stock\\ price}\\right)}$\"\n",
    "    plt.xlabel(xlabel, fontsize = 16)    \n",
    "\n",
    "    title = r\"$\\bf{Delta\\ Value\\ of\\ Call\\ Option\\ Contracts}$\"\n",
    "    title += \"\\n\"\n",
    "    title += r\"$\\rm{Days\\ to\\ Expiration:}$\"\n",
    "    title += \" %2s\" % t\n",
    "    plt.title(title, family = \"monospace\", fontsize = 16)\n",
    "    \n",
    "    xMin, xMax = np.min(moneyness), np.max(moneyness)\n",
    "    plt.xlim(xMin, xMax)\n",
    "    ticks = plt.gca().get_xticks()\n",
    "    ticks = ticks[(ticks <= xMax)&(ticks >= xMin)]\n",
    "    xLabels = []\n",
    "    for curLabel in ticks:\n",
    "        newLabel = \"{:.0f}%\\n\".format(curLabel*100)\n",
    "        if curLabel == 0:\n",
    "            newLabel += r\"$\\it{ATM}$\"\n",
    "        elif curLabel == ticks[0]:\n",
    "            newLabel += r\"$\\it{OTM}$\"\n",
    "        elif curLabel == ticks[-1]:\n",
    "            newLabel += r\"$\\it{ITM}$\"\n",
    "        xLabels.append(newLabel)\n",
    "    plt.xticks(ticks, xLabels, fontsize = 14)\n",
    "    plt.grid()\n",
    "    \n",
    "    ax1.tick_params(axis='y', labelsize = 14, labelcolor='r')\n",
    "    ax1.set_yticks(np.linspace(0, 1, 6))\n",
    "    ax1.plot(moneyness, deltaT[t], color = 'r', linewidth = 2.5)\n",
    "    ylabel = r\"$\\bf{Delta}$\"\n",
    "    ylabel += \"\\n\"\n",
    "    ylabel += r\"$\\rm{(Change\\ in\\ option\\ value\\ due\\ to\\ \\$1\\ stock\\ increase)}$\"\n",
    "    ax1.set_ylabel(ylabel, color = 'r', fontsize = 16)\n",
    "    ax1.set_ylim(0, 1)\n",
    "    \n",
    "    ax2 = ax1.twinx()\n",
    "    ax2.plot(moneyness, deltaFactorT[t], color = 'b', linewidth = 2.5)\n",
    "    ax2.tick_params(axis='y', labelsize = 14, labelcolor='b')\n",
    "    ax2.set_yticks(np.linspace(0, 100, 6))\n",
    "    ylabel = r\"$\\bf{Leverage}$\"\n",
    "    ylabel += \"\\n\"\n",
    "    ylabel += r\"$\\rm{\\left(Delta\\times\\frac{stock\\ price}{option\\ price}\\right)}$\"\n",
    "    ax2.set_ylabel(ylabel, color = 'b', fontsize = 16)\n",
    "    ax2.set_ylim(0, 100)\n",
    "    \n",
    "    fname = \"delta_%02d.png\" % t\n",
    "    files.append(fname)\n",
    "    plt.savefig(fname)\n",
    "    plt.close()"
   ]
  },
  {
   "cell_type": "code",
   "execution_count": 4,
   "metadata": {},
   "outputs": [],
   "source": [
    "### Making movie animation\n",
    "images = []\n",
    "for i in range(tMax+1):\n",
    "    fname = files[i]\n",
    "    # make first and last frames longer\n",
    "    if i == 0 or i == tMax:\n",
    "        for _ in range(9):\n",
    "            images.append(imageio.imread(fname))\n",
    "    #\n",
    "    images.append(imageio.imread(fname))\n",
    "imageio.mimsave('Delta.gif', images, duration=0.1)\n",
    "\n",
    "### cleanup\n",
    "for fname in files:\n",
    "    os.remove(fname)"
   ]
  }
 ],
 "metadata": {
  "kernelspec": {
   "display_name": "Python 3",
   "language": "python",
   "name": "python3"
  },
  "language_info": {
   "codemirror_mode": {
    "name": "ipython",
    "version": 3
   },
   "file_extension": ".py",
   "mimetype": "text/x-python",
   "name": "python",
   "nbconvert_exporter": "python",
   "pygments_lexer": "ipython3",
   "version": "3.7.6"
  }
 },
 "nbformat": 4,
 "nbformat_minor": 4
}
