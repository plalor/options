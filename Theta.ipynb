{
 "cells": [
  {
   "cell_type": "code",
   "execution_count": 1,
   "metadata": {},
   "outputs": [],
   "source": [
    "import os\n",
    "import numpy as np\n",
    "import imageio\n",
    "from matplotlib import pyplot as plt\n",
    "from utils import *"
   ]
  },
  {
   "cell_type": "code",
   "execution_count": 2,
   "metadata": {
    "scrolled": true
   },
   "outputs": [],
   "source": [
    "tMax = 60\n",
    "stockMin = 317\n",
    "stockMax = 363\n",
    "strike = 340\n",
    "\n",
    "###\n",
    "n = int((stockMax - stockMin)/0.01 + 1)\n",
    "stock = np.linspace(stockMin, stockMax, n)\n",
    "\n",
    "### t days until expiration\n",
    "valueT = np.zeros((tMax+2, n))\n",
    "valueT[tMax+1] = BlackScholes(strike, stock, tMax+1)\n",
    "thetaT = np.zeros((tMax+1, n))\n",
    "thetaFactorT = np.zeros((tMax+1, n))\n",
    "for t in range(tMax+1)[::-1]:\n",
    "    value = BlackScholes(strike, stock, t)\n",
    "    valueT[t] = value\n",
    "    prev = valueT[t+1]\n",
    "    theta = value - prev\n",
    "    thetaT[t] = theta\n",
    "    thetaFactorT[t] = theta/prev\n",
    "\n",
    "### Normalizing Data\n",
    "\n",
    "# normalizing stock value\n",
    "x = (stock - strike) / strike\n",
    "\n",
    "# normalizing contract value\n",
    "idx = np.argmin(np.abs(stock - strike))\n",
    "yArr = valueT / valueT[tMax, idx]\n",
    "thetaT = thetaT / valueT[tMax, idx]\n",
    "thetaMax = np.max(-thetaT)\n",
    "thetaMax = 0.125 #makes plot look prettier"
   ]
  },
  {
   "cell_type": "code",
   "execution_count": 3,
   "metadata": {},
   "outputs": [],
   "source": [
    "# Generating images\n",
    "files = []\n",
    "for t in range(tMax+1)[::-1]:\n",
    "    fig, ax1 = plt.subplots(figsize = [10, 8], tight_layout = True)\n",
    "    xlabel = r\"$\\bf{Option\\ Moneyness}$\"\n",
    "    xlabel += \"\\n\"\n",
    "    xlabel += r\"$\\rm{(Percent\\ difference\\ between\\ stock\\ price\\ and\\ strike\\ price)}$\"\n",
    "    plt.xlabel(xlabel, fontsize = 16)    \n",
    "\n",
    "    title = r\"$\\bf{Daily\\ Theta\\ Decay\\ of\\ Call\\ Option\\ Contracts}$\"\n",
    "    title += \"\\n\"\n",
    "    title += r\"$\\rm{Days\\ to\\ Expiration:}$\"\n",
    "    title += \" %2s\" % t\n",
    "    plt.title(title, family = \"monospace\", fontsize = 16)\n",
    "    \n",
    "    plt.xlim(x[0], x[-1])\n",
    "    plt.xticks(fontsize = 14)\n",
    "    plt.grid()\n",
    "    plt.gca().set_xticklabels(['{:.0f}%'.format(x*100) for x in plt.gca().get_xticks()]);\n",
    "    \n",
    "    ax1.tick_params(axis='y', labelsize = 14, labelcolor='r')\n",
    "    ax1.set_yticks(np.linspace(-thetaMax, 0, 6))\n",
    "    ax1.plot(x, thetaT[t], color = 'r', linewidth = 2.5)\n",
    "    ylabel = r\"$\\bf{Theta}$\"\n",
    "    ylabel += \"\\n\"\n",
    "    ylabel += r\"$\\rm{(Daily\\ decline\\ in\\ option\\ value)}$\"\n",
    "    ax1.set_ylabel(ylabel, color = 'r', fontsize = 16)\n",
    "    ax1.set_ylim(-1.02*thetaMax, 0.02*thetaMax)\n",
    "    \n",
    "    ax2 = ax1.twinx()\n",
    "    ax2.plot(x, thetaFactorT[t], color = 'b', linewidth = 2.5)\n",
    "    ax2.tick_params(axis='y', labelsize = 14, labelcolor='b')\n",
    "    ax2.set_yticks(np.linspace(-1, 0, 6))\n",
    "    ylabel = r\"$\\bf{Percentage\\ Theta\\ Loss}$\"\n",
    "    ylabel += \"\\n\"\n",
    "    ylabel += r\"$\\rm{\\left(\\frac{Theta}{option\\ price}\\right)}$\"\n",
    "    ax2.set_ylabel(ylabel, color = 'b', fontsize = 16)\n",
    "    ax2.set_ylim(-1.02, 0.02)\n",
    "    plt.gca().set_yticklabels(['{:.0f}%'.format(y*100) for y in plt.gca().get_yticks()]);\n",
    "    \n",
    "    fname = \"theta_%02d.png\" % t\n",
    "    files.append(fname)\n",
    "    plt.savefig(fname)\n",
    "    plt.close()"
   ]
  },
  {
   "cell_type": "code",
   "execution_count": 4,
   "metadata": {},
   "outputs": [],
   "source": [
    "### Making movie animation\n",
    "images = []\n",
    "for i in range(tMax+1):\n",
    "    fname = files[i]\n",
    "    # make first and last frames longer\n",
    "    if i == 0 or i == tMax:\n",
    "        for _ in range(9):\n",
    "            images.append(imageio.imread(fname))\n",
    "    #\n",
    "    images.append(imageio.imread(fname))\n",
    "imageio.mimsave('Theta.gif', images, duration=0.1)\n",
    "\n",
    "### cleanup\n",
    "for fname in files:\n",
    "    os.remove(fname)"
   ]
  }
 ],
 "metadata": {
  "kernelspec": {
   "display_name": "Python 3",
   "language": "python",
   "name": "python3"
  },
  "language_info": {
   "codemirror_mode": {
    "name": "ipython",
    "version": 3
   },
   "file_extension": ".py",
   "mimetype": "text/x-python",
   "name": "python",
   "nbconvert_exporter": "python",
   "pygments_lexer": "ipython3",
   "version": "3.7.6"
  }
 },
 "nbformat": 4,
 "nbformat_minor": 4
}
