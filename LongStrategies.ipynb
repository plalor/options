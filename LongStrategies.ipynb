{
 "cells": [
  {
   "cell_type": "code",
   "execution_count": 1,
   "metadata": {},
   "outputs": [
    {
     "ename": "SyntaxError",
     "evalue": "invalid syntax (utils.py, line 8)",
     "output_type": "error",
     "traceback": [
      "Traceback \u001b[0;36m(most recent call last)\u001b[0m:\n",
      "  File \u001b[1;32m\"/Users/peter/opt/anaconda3/lib/python3.7/site-packages/IPython/core/interactiveshell.py\"\u001b[0m, line \u001b[1;32m3331\u001b[0m, in \u001b[1;35mrun_code\u001b[0m\n    exec(code_obj, self.user_global_ns, self.user_ns)\n",
      "\u001b[0;36m  File \u001b[0;32m\"<ipython-input-1-5333d3cfa1c3>\"\u001b[0;36m, line \u001b[0;32m7\u001b[0;36m, in \u001b[0;35m<module>\u001b[0;36m\u001b[0m\n\u001b[0;31m    from utils import *\u001b[0m\n",
      "\u001b[0;36m  File \u001b[0;32m\"/Users/peter/Work/options/utils.py\"\u001b[0;36m, line \u001b[0;32m8\u001b[0m\n\u001b[0;31m    def BlackScholes(strikePrice, stockValue, daysToExp, volatility, r=0.01)::\u001b[0m\n\u001b[0m                                                                             ^\u001b[0m\n\u001b[0;31mSyntaxError\u001b[0m\u001b[0;31m:\u001b[0m invalid syntax\n"
     ]
    }
   ],
   "source": [
    "import os\n",
    "import numpy as np\n",
    "import imageio\n",
    "from matplotlib import pyplot as plt\n",
    "import matplotlib.ticker as ticker\n",
    "from pandas import read_csv\n",
    "from utils import *"
   ]
  },
  {
   "cell_type": "code",
   "execution_count": null,
   "metadata": {},
   "outputs": [],
   "source": [
    "def printRelevant(strike, stock, DTE, volatility=None, r=None):\n",
    "    if volatility is not None and r is not None:\n",
    "        value = BlackScholes(strike, stock, DTE, volatility=volatility, r=r)\n",
    "    elif volatility is not None:\n",
    "        value = BlackScholes(strike, stock, DTE, volatility=volatility)\n",
    "    elif r is not None:\n",
    "        value = BlackScholes(strike, stock, DTE, r=r)\n",
    "    else:\n",
    "        value = BlackScholes(strike, stock, DTE)\n",
    "    theta = Greeks(strike, stock, DTE, greek=\"theta\")\n",
    "    delta = Greeks(strike, stock, DTE, greek=\"delta\")\n",
    "    gamma = Greeks(strike, stock, DTE, greek=\"gamma\")\n",
    "\n",
    "    leverage = stock*delta/value\n",
    "    decay = 100 * theta / value\n",
    "    nonlinearity = 5e-5 * gamma*stock**2/value\n",
    "    \n",
    "    print(\"Contract value = $%.2f\" % value)\n",
    "    print(\"Decay Rate = %.2f%%\" % decay)\n",
    "    print(\"Leverage = %.3f\" % leverage)\n",
    "    print(\"Nonlinearity = %.3f\" % nonlinearity)\n",
    "    \n",
    "def calcPercentReturn(myCash):\n",
    "    time = len(myCash) * deltaT\n",
    "    factor = (myCash[-1] / myCash[0])**(365 / time)\n",
    "    return 100*(factor-1)\n",
    "\n",
    "def calcFinalReturn(myCash):\n",
    "    dollar = int(round(myCash[-1]))\n",
    "    return format(dollar, \",\")\n",
    "\n",
    "# stock = 349.36\n",
    "# strike = 345\n",
    "# DTE = 462\n",
    "# printRelevant(strike, stock, DTE, volatility=0.2057, r = 0.0074)"
   ]
  },
  {
   "cell_type": "code",
   "execution_count": null,
   "metadata": {},
   "outputs": [],
   "source": [
    "### Loading Data...\n",
    "\n",
    "data = read_csv(\"data/SPY.csv\")\n",
    "vix = read_csv(\"data/VIX.csv\")\n",
    "dates = np.array(data[\"Date\"], dtype = str)\n",
    "\n",
    "### Loading risk free interest rate\n",
    "TresYield = read_csv(\"data/USTREASURY-YIELD.csv\")\n",
    "TresDates = np.array(TresYield[\"Date\"][::-1], dtype = str)\n",
    "TresRate = np.array(TresYield[\"1 YR\"][::-1])\n",
    "r = np.zeros(len(dates))\n",
    "i = j = 0\n",
    "while i < len(dates):\n",
    "    r[i] = TresRate[j]/100\n",
    "    if dates[i] == TresDates[j]:\n",
    "        i += 1\n",
    "        j += 1\n",
    "    elif dates[i] < TresDates[j]:\n",
    "        i += 1\n",
    "    elif dates[i] > TresDates[j]:\n",
    "        j += 1\n",
    "###\n",
    "\n",
    "deltaT = 365/252\n",
    "\n",
    "yearStart = 1994\n",
    "#yearStart = 2009.2\n",
    "yearEnd = 2021\n",
    "\n",
    "idxStart = int(252*(yearStart - 1994))\n",
    "idxEnd = int(252*(yearEnd - 1994))\n",
    "\n",
    "prices = np.array(data[\"Close\"])[idxStart:idxEnd]\n",
    "volatility = np.array(vix[\"Close\"])[idxStart:idxEnd]/100\n",
    "volatilityLEAP = 0.807*volatility\n",
    "volatilityCC = 0.693*volatility\n",
    "n = len(prices)\n",
    "times = np.arange(n)\n",
    "deltaT = 365/252\n",
    "\n",
    "date = times/252 + yearStart"
   ]
  },
  {
   "cell_type": "code",
   "execution_count": null,
   "metadata": {},
   "outputs": [],
   "source": [
    "### Strategy 1: Buy and Hold\n",
    "\n",
    "myCashSPY = np.zeros(n)\n",
    "myCashSPY[0] = 1000\n",
    "\n",
    "SPY = prices[0]\n",
    "nShares = myCashSPY[0] / SPY \n",
    "for i in range(1, n):\n",
    "    SPY = prices[i]\n",
    "    myCashSPY[i] = nShares * SPY\n",
    "    \n",
    "percentReturnSPY = calcPercentReturn(myCashSPY)\n",
    "dollarReturnSPY = calcFinalReturn(myCashSPY)\n",
    "\n",
    "print(\"Investing in $1,000 of S&P 500 stock in %d:\" % yearStart)\n",
    "print(\"Present value = $%s for an average annual return of %.1f%%\" % (dollarReturnSPY, percentReturnSPY))"
   ]
  },
  {
   "cell_type": "code",
   "execution_count": null,
   "metadata": {},
   "outputs": [],
   "source": [
    "### Strategy 2: Covered Calls\n",
    "\n",
    "enterCC = 30\n",
    "exitCC = deltaT\n",
    "deltaCC = 0.15\n",
    "\n",
    "myCashCC = np.zeros(n)\n",
    "myCashCC[0] = 1000\n",
    "\n",
    "SPY = prices[0]\n",
    "nShares = myCashCC[0] / SPY \n",
    "\n",
    "strikeCC = findStrike(deltaCC, SPY, enterCC, volatilityCC[0], r[0])\n",
    "CC = BlackScholes(strikeCC, SPY, enterCC, volatilityCC[0], r[0])\n",
    "daysSinceOpenCC = 0\n",
    "\n",
    "for i in range(1, n):\n",
    "    daysSinceOpenCC += deltaT\n",
    "    SPY = prices[i]\n",
    "    \n",
    "    CCValue = BlackScholes(strikeCC, SPY, enterCC - daysSinceOpenCC, volatilityCC[i], r[i])\n",
    "    myCashCC[i] = nShares * (SPY + CC - CCValue)\n",
    "    \n",
    "    if (enterCC - daysSinceOpenCC) <= exitCC:\n",
    "        myCashCC[i] = nShares * (SPY + CC - CCValue - 0.013)   # $1.30 contract fee\n",
    "        nShares = myCashCC[i] / SPY \n",
    "        \n",
    "        strikeCC = findStrike(deltaCC, SPY, enterCC, volatilityCC[i], r[i])\n",
    "        CC = BlackScholes(strikeCC, SPY, enterCC, volatilityCC[i], r[i])\n",
    "        daysSinceOpenCC = 0\n",
    "        \n",
    "percentReturnCC = calcPercentReturn(myCashCC)\n",
    "dollarReturnCC = calcFinalReturn(myCashCC)\n",
    "\n",
    "print(\"Investing in $1,000 of S&P 500 stock + covered calls %d:\" % yearStart)\n",
    "print(\"Present value = $%s for an average annual return of %.1f%%\" % (dollarReturnCC, percentReturnCC))"
   ]
  },
  {
   "cell_type": "code",
   "execution_count": 2,
   "metadata": {},
   "outputs": [
    {
     "ename": "NameError",
     "evalue": "name 'n' is not defined",
     "output_type": "error",
     "traceback": [
      "\u001b[0;31m---------------------------------------------------------------------------\u001b[0m",
      "\u001b[0;31mNameError\u001b[0m                                 Traceback (most recent call last)",
      "\u001b[0;32m<ipython-input-2-b5f244c0fbed>\u001b[0m in \u001b[0;36m<module>\u001b[0;34m\u001b[0m\n\u001b[1;32m      4\u001b[0m \u001b[0mdeltaLEAP\u001b[0m \u001b[0;34m=\u001b[0m \u001b[0;36m0.8\u001b[0m\u001b[0;34m\u001b[0m\u001b[0;34m\u001b[0m\u001b[0m\n\u001b[1;32m      5\u001b[0m \u001b[0;34m\u001b[0m\u001b[0m\n\u001b[0;32m----> 6\u001b[0;31m \u001b[0mmyCashLEAP\u001b[0m \u001b[0;34m=\u001b[0m \u001b[0mnp\u001b[0m\u001b[0;34m.\u001b[0m\u001b[0mzeros\u001b[0m\u001b[0;34m(\u001b[0m\u001b[0mn\u001b[0m\u001b[0;34m)\u001b[0m\u001b[0;34m\u001b[0m\u001b[0;34m\u001b[0m\u001b[0m\n\u001b[0m\u001b[1;32m      7\u001b[0m \u001b[0mmyCashLEAP\u001b[0m\u001b[0;34m[\u001b[0m\u001b[0;36m0\u001b[0m\u001b[0;34m]\u001b[0m \u001b[0;34m=\u001b[0m \u001b[0;36m1000\u001b[0m\u001b[0;34m\u001b[0m\u001b[0;34m\u001b[0m\u001b[0m\n\u001b[1;32m      8\u001b[0m \u001b[0;34m\u001b[0m\u001b[0m\n",
      "\u001b[0;31mNameError\u001b[0m: name 'n' is not defined"
     ]
    }
   ],
   "source": [
    "### Strategy 3: LEAPs\n",
    "enterLEAP = 800\n",
    "exitLEAP = enterLEAP - 365\n",
    "deltaLEAP = 0.8\n",
    "\n",
    "myCashLEAP = np.zeros(n)\n",
    "myCashLEAP[0] = 1000\n",
    "\n",
    "SPY = prices[0]\n",
    "strikeLEAP = findStrike(deltaLEAP, SPY, enterLEAP, volatilityLEAP[0], r[0])\n",
    "LEAP = BlackScholes(strikeLEAP, SPY, enterLEAP, volatilityLEAP[0], r[0])\n",
    "\n",
    "nContracts = myCashLEAP[0] / LEAP\n",
    "daysSinceOpenLEAP = 0\n",
    "\n",
    "for i in range(1, n):\n",
    "    daysSinceOpenLEAP += deltaT\n",
    "    SPY = prices[i]\n",
    "    \n",
    "    LeapValue = BlackScholes(strikeLEAP, SPY, enterLEAP-daysSinceOpenLEAP, volatilityLEAP[i], r[i])\n",
    "    myCashLEAP[i] = nContracts * LeapValue\n",
    "    \n",
    "    if (enterLEAP - daysSinceOpenLEAP) <= exitLEAP:\n",
    "        strikeLEAP = findStrike(deltaLEAP, SPY, enterLEAP, volatilityLEAP[i], r[i])\n",
    "        LEAP = BlackScholes(strikeLEAP, SPY, enterLEAP, volatilityLEAP[i], r[i])\n",
    "        nContracts = myCashLEAP[i] / (1.03*LEAP)   # 3% loss on bid-ask\n",
    "        daysSinceOpenLEAP = 0\n",
    "        \n",
    "percentReturnLEAP = calcPercentReturn(myCashLEAP)\n",
    "dollarReturnLEAP = calcFinalReturn(myCashLEAP)\n",
    "\n",
    "print(\"Investing in $1,000 of S&P 500 LEAPS %d:\" % yearStart)\n",
    "print(\"Present value = $%s for an average annual return of %.1f%%\" % (dollarReturnLEAP, percentReturnLEAP))"
   ]
  },
  {
   "cell_type": "code",
   "execution_count": 3,
   "metadata": {},
   "outputs": [
    {
     "ename": "NameError",
     "evalue": "name 'deltaT' is not defined",
     "output_type": "error",
     "traceback": [
      "\u001b[0;31m---------------------------------------------------------------------------\u001b[0m",
      "\u001b[0;31mNameError\u001b[0m                                 Traceback (most recent call last)",
      "\u001b[0;32m<ipython-input-3-4bbb3b8bdba5>\u001b[0m in \u001b[0;36m<module>\u001b[0;34m\u001b[0m\n\u001b[1;32m      6\u001b[0m \u001b[0;34m\u001b[0m\u001b[0m\n\u001b[1;32m      7\u001b[0m \u001b[0menterCC\u001b[0m \u001b[0;34m=\u001b[0m \u001b[0;36m30\u001b[0m\u001b[0;34m\u001b[0m\u001b[0;34m\u001b[0m\u001b[0m\n\u001b[0;32m----> 8\u001b[0;31m \u001b[0mexitCC\u001b[0m \u001b[0;34m=\u001b[0m \u001b[0mdeltaT\u001b[0m\u001b[0;34m\u001b[0m\u001b[0;34m\u001b[0m\u001b[0m\n\u001b[0m\u001b[1;32m      9\u001b[0m \u001b[0mdeltaCC\u001b[0m \u001b[0;34m=\u001b[0m \u001b[0;36m0.15\u001b[0m\u001b[0;34m\u001b[0m\u001b[0;34m\u001b[0m\u001b[0m\n\u001b[1;32m     10\u001b[0m \u001b[0;34m\u001b[0m\u001b[0m\n",
      "\u001b[0;31mNameError\u001b[0m: name 'deltaT' is not defined"
     ]
    }
   ],
   "source": [
    "### Strategy 4: Poor Man's Covered Calls\n",
    "\n",
    "enterLEAP = 800\n",
    "exitLEAP = enterLEAP - 365\n",
    "deltaLEAP = 0.8\n",
    "\n",
    "enterCC = 30\n",
    "exitCC = deltaT\n",
    "deltaCC = 0.15\n",
    "\n",
    "myCashPMCC = np.zeros(n)\n",
    "myCashPMCC[0] = 1000\n",
    "\n",
    "SPY = prices[0]\n",
    "strikeLEAP = findStrike(deltaLEAP, SPY, enterLEAP, volatilityLEAP[0], r[0])\n",
    "LEAP = BlackScholes(strikeLEAP, SPY, enterLEAP, volatilityLEAP[0], r[0])\n",
    "\n",
    "nContracts = myCashPMCC[0] / LEAP\n",
    "daysSinceOpenLEAP = 0\n",
    "\n",
    "strikeCC = findStrike(deltaCC, SPY, enterCC, volatilityCC[0], r[0])\n",
    "CC = BlackScholes(strikeCC, SPY, enterCC, volatilityCC[0], r[0])\n",
    "daysSinceOpenCC = 0\n",
    "\n",
    "positive = []\n",
    "negative = []\n",
    "\n",
    "for i in range(1, n):\n",
    "    daysSinceOpenLEAP += deltaT\n",
    "    daysSinceOpenCC += deltaT\n",
    "    SPY = prices[i]\n",
    "        \n",
    "    LeapValue = BlackScholes(strikeLEAP, SPY, enterLEAP-daysSinceOpenLEAP, volatilityLEAP[i], r[i])\n",
    "    CCValue = BlackScholes(strikeCC, SPY, enterCC - daysSinceOpenCC, volatilityCC[i], r[i])\n",
    "    myCashPMCC[i] = nContracts * (LeapValue + CC - CCValue)\n",
    "    \n",
    "    if (enterCC - daysSinceOpenCC) <= exitCC:       \n",
    "        myCashPMCC[i] = nContracts * (LeapValue + CC - CCValue - 0.013) # $1.30 contract fee\n",
    "        nContracts = myCashPMCC[i] / LeapValue \n",
    "\n",
    "        strikeCC = findStrike(deltaCC, SPY, enterCC, volatilityCC[i], r[i])\n",
    "        CC = BlackScholes(strikeCC, SPY, enterCC, volatilityCC[i], r[i])\n",
    "        daysSinceOpenCC = 0\n",
    "        \n",
    "    if (enterLEAP - daysSinceOpenLEAP) <= exitLEAP:\n",
    "        strikeLEAP = findStrike(deltaLEAP, SPY, enterLEAP, volatilityLEAP[i], r[i])\n",
    "        LEAP = BlackScholes(strikeLEAP, SPY, enterLEAP, volatilityLEAP[i], r[i])\n",
    "        nContracts = myCashPMCC[i] / (1.03*LEAP)   # 3% loss on bid-ask\n",
    "        daysSinceOpenLEAP = 0\n",
    "        \n",
    "percentReturnPMCC = calcPercentReturn(myCashPMCC)\n",
    "dollarReturnPMCC = calcFinalReturn(myCashPMCC)\n",
    "\n",
    "print(\"Investing in $1,000 of S&P 500 LEAPS + covered calls %d:\" % yearStart)\n",
    "print(\"Present value = $%s for an average annual return of %.1f%%\" % (dollarReturnPMCC, percentReturnPMCC))"
   ]
  },
  {
   "cell_type": "code",
   "execution_count": 4,
   "metadata": {},
   "outputs": [
    {
     "ename": "NameError",
     "evalue": "name 'date' is not defined",
     "output_type": "error",
     "traceback": [
      "\u001b[0;31m---------------------------------------------------------------------------\u001b[0m",
      "\u001b[0;31mNameError\u001b[0m                                 Traceback (most recent call last)",
      "\u001b[0;32m<ipython-input-4-1b8ec8e0783b>\u001b[0m in \u001b[0;36m<module>\u001b[0;34m\u001b[0m\n\u001b[1;32m      1\u001b[0m \u001b[0mfig\u001b[0m\u001b[0;34m,\u001b[0m \u001b[0max\u001b[0m \u001b[0;34m=\u001b[0m \u001b[0mplt\u001b[0m\u001b[0;34m.\u001b[0m\u001b[0msubplots\u001b[0m\u001b[0;34m(\u001b[0m\u001b[0mfigsize\u001b[0m \u001b[0;34m=\u001b[0m \u001b[0;34m[\u001b[0m\u001b[0;36m14\u001b[0m\u001b[0;34m,\u001b[0m \u001b[0;36m10\u001b[0m\u001b[0;34m]\u001b[0m\u001b[0;34m)\u001b[0m\u001b[0;34m\u001b[0m\u001b[0;34m\u001b[0m\u001b[0m\n\u001b[0;32m----> 2\u001b[0;31m \u001b[0mplt\u001b[0m\u001b[0;34m.\u001b[0m\u001b[0mplot\u001b[0m\u001b[0;34m(\u001b[0m\u001b[0mdate\u001b[0m\u001b[0;34m,\u001b[0m \u001b[0mmyCashPMCC\u001b[0m\u001b[0;34m,\u001b[0m \u001b[0mlinewidth\u001b[0m\u001b[0;34m=\u001b[0m\u001b[0;36m2\u001b[0m\u001b[0;34m,\u001b[0m \u001b[0mlabel\u001b[0m \u001b[0;34m=\u001b[0m \u001b[0;34m\"S&P 500 LEAPS + Covered Calls:\\naverage annual return = %.1f%%\"\u001b[0m \u001b[0;34m%\u001b[0m \u001b[0mpercentReturnPMCC\u001b[0m\u001b[0;34m)\u001b[0m\u001b[0;34m\u001b[0m\u001b[0;34m\u001b[0m\u001b[0m\n\u001b[0m\u001b[1;32m      3\u001b[0m \u001b[0mplt\u001b[0m\u001b[0;34m.\u001b[0m\u001b[0mplot\u001b[0m\u001b[0;34m(\u001b[0m\u001b[0mdate\u001b[0m\u001b[0;34m,\u001b[0m \u001b[0mmyCashLEAP\u001b[0m\u001b[0;34m,\u001b[0m \u001b[0mlinewidth\u001b[0m\u001b[0;34m=\u001b[0m\u001b[0;36m2\u001b[0m\u001b[0;34m,\u001b[0m \u001b[0mlabel\u001b[0m \u001b[0;34m=\u001b[0m \u001b[0;34m\"S&P 500 LEAPS:\\naverage annual return = %.1f%%\"\u001b[0m \u001b[0;34m%\u001b[0m \u001b[0mpercentReturnLEAP\u001b[0m\u001b[0;34m)\u001b[0m\u001b[0;34m\u001b[0m\u001b[0;34m\u001b[0m\u001b[0m\n\u001b[1;32m      4\u001b[0m \u001b[0mplt\u001b[0m\u001b[0;34m.\u001b[0m\u001b[0mplot\u001b[0m\u001b[0;34m(\u001b[0m\u001b[0mdate\u001b[0m\u001b[0;34m,\u001b[0m \u001b[0mmyCashCC\u001b[0m\u001b[0;34m,\u001b[0m \u001b[0mlinewidth\u001b[0m\u001b[0;34m=\u001b[0m\u001b[0;36m2\u001b[0m\u001b[0;34m,\u001b[0m \u001b[0mlabel\u001b[0m \u001b[0;34m=\u001b[0m \u001b[0;34m\"S&P 500 + Covered Calls:\\naverage annual return = %.1f%%\"\u001b[0m \u001b[0;34m%\u001b[0m \u001b[0mpercentReturnCC\u001b[0m\u001b[0;34m)\u001b[0m\u001b[0;34m\u001b[0m\u001b[0;34m\u001b[0m\u001b[0m\n\u001b[1;32m      5\u001b[0m \u001b[0mplt\u001b[0m\u001b[0;34m.\u001b[0m\u001b[0mplot\u001b[0m\u001b[0;34m(\u001b[0m\u001b[0mdate\u001b[0m\u001b[0;34m,\u001b[0m \u001b[0mmyCashSPY\u001b[0m\u001b[0;34m,\u001b[0m \u001b[0mlinewidth\u001b[0m\u001b[0;34m=\u001b[0m\u001b[0;36m2\u001b[0m\u001b[0;34m,\u001b[0m \u001b[0mlabel\u001b[0m\u001b[0;34m=\u001b[0m\u001b[0;34m\"S&P 500:\\naverage annual return = %.1f%%\"\u001b[0m \u001b[0;34m%\u001b[0m \u001b[0mpercentReturnSPY\u001b[0m\u001b[0;34m)\u001b[0m\u001b[0;34m\u001b[0m\u001b[0;34m\u001b[0m\u001b[0m\n",
      "\u001b[0;31mNameError\u001b[0m: name 'date' is not defined"
     ]
    },
    {
     "data": {
      "image/png": "[encoded data removed]",
      "text/plain": [
       "<Figure size 1008x720 with 1 Axes>"
      ]
     },
     "metadata": {
      "needs_background": "light"
     },
     "output_type": "display_data"
    }
   ],
   "source": [
    "fig, ax = plt.subplots(figsize = [14, 10])\n",
    "plt.plot(date, myCashPMCC, linewidth=2, label = \"S&P 500 LEAPS + Covered Calls:\\naverage annual return = %.1f%%\" % percentReturnPMCC)\n",
    "plt.plot(date, myCashLEAP, linewidth=2, label = \"S&P 500 LEAPS:\\naverage annual return = %.1f%%\" % percentReturnLEAP)\n",
    "plt.plot(date, myCashCC, linewidth=2, label = \"S&P 500 + Covered Calls:\\naverage annual return = %.1f%%\" % percentReturnCC)\n",
    "plt.plot(date, myCashSPY, linewidth=2, label=\"S&P 500:\\naverage annual return = %.1f%%\" % percentReturnSPY)\n",
    "plt.legend(fontsize = 16)\n",
    "plt.title(\"Growth of $1,000 invested into the stock market in %d\" % yearStart, fontsize = 19)\n",
    "plt.semilogy()\n",
    "plt.axhline(y=1000, color = 'k', linestyle = 'dashed', linewidth=2)\n",
    "plt.xticks(fontsize=14)\n",
    "plt.yticks(fontsize=14)\n",
    "plt.xlabel(\"Year\", fontsize=19)\n",
    "plt.ylabel(\"Dollar Value\", fontsize=19)\n",
    "tick = ticker.StrMethodFormatter(\"${x:,.0f}\")\n",
    "#plt.ylim(1e2, 1e6)\n",
    "plt.xlim(yearStart, yearEnd)\n",
    "ax.yaxis.set_major_formatter(tick)\n",
    "plt.savefig(\"Long\")"
   ]
  },
  {
   "cell_type": "code",
   "execution_count": null,
   "metadata": {},
   "outputs": [],
   "source": []
  }
 ],
 "metadata": {
  "kernelspec": {
   "display_name": "Python 3",
   "language": "python",
   "name": "python3"
  },
  "language_info": {
   "codemirror_mode": {
    "name": "ipython",
    "version": 3
   },
   "file_extension": ".py",
   "mimetype": "text/x-python",
   "name": "python",
   "nbconvert_exporter": "python",
   "pygments_lexer": "ipython3",
   "version": "3.7.6"
  }
 },
 "nbformat": 4,
 "nbformat_minor": 4
}
